{
  "nbformat": 4,
  "nbformat_minor": 0,
  "metadata": {
    "colab": {
      "provenance": []
    },
    "kernelspec": {
      "name": "python3",
      "display_name": "Python 3"
    },
    "language_info": {
      "name": "python"
    }
  },
  "cells": [
    {
      "cell_type": "markdown",
      "source": [
        "# Theory Questions:"
      ],
      "metadata": {
        "id": "_WDJ2r0yvT8V"
      }
    },
    {
      "cell_type": "markdown",
      "source": [
        "1. What is the difference between a function and a method in Python?\n",
        "  - In Python, both functions and methods are used to perform specific tasks, but there is a key difference between them.\n",
        "\n",
        "    - A function is a block of reusable code that is defined independently, outside of any class. It can be called directly by its name and does not need to be associated with any object. For example:\n",
        "    \n",
        "            def add(a, b):\n",
        "                return a + b\n",
        "\n",
        "            print(add(5, 3))   # Output: 8\n",
        "    - On the other hand, a method is also a function, but it is defined inside a class and is meant to operate on the objects of that class. Methods usually take self as their first parameter, which refers to the instance of the class that is calling the method. For example:\n",
        "          \n",
        "            class Calculator:\n",
        "                def add(self, a, b):\n",
        "                    return a + b\n",
        "\n",
        "            calc = Calculator()\n",
        "            print(calc.add(5, 3))   # Output: 8"
      ],
      "metadata": {
        "id": "xc246m1WvYgp"
      }
    },
    {
      "cell_type": "markdown",
      "source": [
        "2. Explain the concept of function arguments and parameters in Python.\n",
        "  - Parameters are the variables that are defined in the function header (inside the parentheses). They act as placeholders for the values the function will receive.\n",
        "\n",
        "  - Arguments are the actual values that we pass to the function when we call it.\n",
        "\n",
        "        def greet(name):     # 'name' is a parameter\n",
        "        print(\"Hello,\", name)\n",
        "\n",
        "        greet(\"Pawan\")       # \"Pawan\" is an argument\n"
      ],
      "metadata": {
        "id": "KsOXdgyT5ELc"
      }
    },
    {
      "cell_type": "markdown",
      "source": [
        "3. What are the different ways to define and call a function in Python?\n",
        "\n",
        "  - 1. Normal Function Definition and Call\n",
        "\n",
        "      - This is the most common way.\n",
        "\n",
        "            def greet():\n",
        "                print(\"Hello, World!\")\n",
        "\n",
        "            greet()   # Calling the function\n",
        "\n",
        "  - 2. Function with Parameters\n",
        "\n",
        "      - A function can take inputs (parameters) and use them.\n",
        "\n",
        "            def greet(name):\n",
        "                print(\"Hello,\", name)\n",
        "\n",
        "            greet(\"Pawan\")   # Calling with an argument\n",
        "\n",
        "  - 3. Function with Return Statement\n",
        "\n",
        "      - A function can return values using the return keyword.\n",
        "\n",
        "            def add(a, b):\n",
        "                return a + b\n",
        "\n",
        "            result = add(5, 3)   # Calling and storing result\n",
        "            print(result)        # Output: 8\n",
        "\n",
        " - 4. Function with Default Parameters\n",
        "\n",
        "    - If no argument is passed, the default value will be used.\n",
        "\n",
        "            def greet(name=\"Guest\"):\n",
        "                print(\"Hello,\", name)\n",
        "\n",
        "            greet()          # Output: Hello, Guest\n",
        "            greet(\"Kiran\") # Output: Hello, Kiran\n",
        "\n",
        "  - 5. Variable-Length Functions\n",
        "\n",
        "    - Functions can accept multiple arguments using *args and **kwargs.\n",
        "\n",
        "          def show_numbers(*args):\n",
        "              print(args)\n",
        "\n",
        "          show_numbers(1, 2, 3)   # Output: (1, 2, 3)\n",
        "\n",
        "          def show_info(**kwargs):\n",
        "              print(kwargs)\n",
        "\n",
        "          show_info(name=\"Pawan\", age=20)\n",
        "          # Output: {'name': 'Pawan', 'age': 20}\n",
        "\n",
        "  - 6. Lambda Functions (Anonymous Functions)\n",
        "\n",
        "      - A function can also be defined in a single line using the lambda keyword.\n",
        "\n",
        "            square = lambda x: x * x\n",
        "            print(square(5))   # Output: 25\n",
        "\n",
        "  - 7. Recursive Functions\n",
        "\n",
        "      - A function can call itself (recursion).\n",
        "\n",
        "            def factorial(n):\n",
        "              if n == 0:\n",
        "                 return 1\n",
        "              return n * factorial(n - 1)\n",
        "\n",
        "            print(factorial(5))   # Output: 120"
      ],
      "metadata": {
        "id": "YdNH1pd86mCE"
      }
    },
    {
      "cell_type": "markdown",
      "source": [
        "4. What is the purpose of the `return` statement in a Python function?\n",
        "\n",
        "  - The return statement in Python is used to send the output of a function back to the part of the program where the function was called. If a function does not have a return statement, it will automatically return None by default.\n",
        "                \n",
        "            def add(a, b):\n",
        "                return a + b\n",
        "\n",
        "            result = add(5, 3)\n",
        "            print(result)   # Output: 8"
      ],
      "metadata": {
        "id": "AVIf4zvbBPiB"
      }
    },
    {
      "cell_type": "markdown",
      "source": [
        "5. What are iterators in Python and how do they differ from iterables?\n",
        "  - **An iterable** is simply any object that can be looped over. Common examples are lists, strings, tuples, sets, and dictionaries. These are called iterables because we can use them in a for loop to go through their elements one by one.\n",
        "\n",
        "  - **An iterator**, on the other hand, is an object that remembers where it is in a sequence and gives the next value when asked. We usually get an iterator from an iterable by using the built-in iter() function. Then we can use the next() function to fetch elements one at a time. When there are no more elements left, it stops.\n",
        "\n",
        "          # Iterable\n",
        "            numbers = [1, 2, 3]\n",
        "\n",
        "          # Making an iterator from the iterable\n",
        "            it = iter(numbers)\n",
        "\n",
        "            print(next(it))  # 1\n",
        "            print(next(it))  # 2\n",
        "            print(next(it))  # 3"
      ],
      "metadata": {
        "id": "fnLmO7yqCtrd"
      }
    },
    {
      "cell_type": "markdown",
      "source": [
        "6. Explain the concept of generators in Python and how they are defined.\n",
        "\n",
        "  - Generators - In Python, generators are a special type of function that allow us to generate values one at a time, instead of creating and storing all of them in memory at once. They are very useful when working with large amounts of data, because they are more memory efficient.\n",
        "  \n",
        "  - How they are defined - A generator is defined just like a normal function, but instead of using the return statement, it uses the yield keyword. Each time the function is called, it pauses at yield and sends back a value. The next time it is called, it continues from where it left off, rather than starting again.\n",
        "     - example: Here, the function count_up_to is a generator function. It does not return all numbers at once. Instead, it gives one number at a time when we call next().\n",
        "\n",
        "            def count_up_to(n):\n",
        "              i = 1\n",
        "              while i <= n:\n",
        "                    yield i\n",
        "                    i += 1\n",
        "\n",
        "            # Creating a generator object\n",
        "            numbers = count_up_to(5)\n",
        "\n",
        "            # Accessing values one by one\n",
        "            print(next(numbers))  # 1\n",
        "            print(next(numbers))  # 2\n",
        "            print(next(numbers))  # 3\n"
      ],
      "metadata": {
        "id": "22bgk28-EKQg"
      }
    },
    {
      "cell_type": "markdown",
      "source": [
        "7. What are the advantages of using generators over regular functions?\n",
        "  - Generators in Python offer several advantages compared to normal functions, especially when dealing with large data or continuous streams of values.\n",
        "\n",
        "      - 1. **Memory Efficiency**\n",
        "\n",
        "        * Generators produce one value at a time using `yield`, instead of storing all values in memory.\n",
        "        * This makes them suitable for working with large datasets or infinite sequences.\n",
        "\n",
        "      - 2. **Lazy Evaluation**\n",
        "\n",
        "          * Values are generated only when needed.\n",
        "          * This avoids unnecessary computation and saves resources.\n",
        "\n",
        "      - 3. **Simpler Code**\n",
        "\n",
        "          * Generators can replace complex iterator classes.\n",
        "          * Writing a generator function with `yield` is often shorter and easier to understand.\n",
        "\n",
        "      - 4. **Can Represent Infinite Sequences**\n",
        "\n",
        "          * Since generators don’t create all values at once, they can represent sequences that are theoretically infinite (e.g., an endless stream of numbers).\n",
        "\n",
        "      - 5. **Better Performance**\n",
        "\n",
        "          * Because they don’t compute everything upfront, generators are usually faster for tasks where only part of the data is needed.\n",
        "\n",
        "      ##### Example:\n",
        "\n",
        "      ```python\n",
        "      def numbers_up_to(n):\n",
        "          for i in range(1, n+1):\n",
        "              yield i   # generator\n",
        "\n",
        "      for num in numbers_up_to(5):\n",
        "          print(num)\n",
        "      ```\n",
        "\n",
        "      Here, the generator gives one number at a time instead of creating the whole list `[1, 2, 3, 4, 5]` in memory."
      ],
      "metadata": {
        "id": "y-J_icWjGjZq"
      }
    },
    {
      "cell_type": "markdown",
      "source": [
        "8. What is a lambda function in Python and when is it typically used?\n",
        "\n",
        "  - A **lambda function** in Python is a small, anonymous (nameless) function that is defined using the keyword `lambda` instead of `def`. It can take any number of arguments but can only contain a single expression. The result of that expression is automatically returned.\n",
        "\n",
        "    The general syntax is:\n",
        "\n",
        "    ```python\n",
        "    lambda arguments: expression\n",
        "    ```\n",
        "\n",
        "    #### Example:\n",
        "\n",
        "    ```python\n",
        "    # Normal function\n",
        "    def square(x):\n",
        "        return x * x\n",
        "\n",
        "    # Lambda function (short version)\n",
        "    square = lambda x: x * x\n",
        "\n",
        "    print(square(5))   # Output: 25\n",
        "    ```\n",
        "\n",
        "    ### When is a Lambda Function Used?\n",
        "\n",
        "    Lambda functions are typically used when:\n",
        "\n",
        "    1. **We need a short, temporary function** that we don’t want to define with `def`.\n",
        "    2. **Used inside higher-order functions** like `map()`, `filter()`, and `reduce()`.\n",
        "\n",
        "       ```python\n",
        "       numbers = [1, 2, 3, 4, 5]\n",
        "       squares = list(map(lambda x: x*x, numbers))\n",
        "       print(squares)   # [1, 4, 9, 16, 25]\n",
        "       ```\n",
        "    3. **Used as quick helper functions** in places where defining a full function would make the code longer and less clear."
      ],
      "metadata": {
        "id": "66mvssqzI0_3"
      }
    },
    {
      "cell_type": "markdown",
      "source": [
        "9. Explain the purpose and usage of the `map()` function in Python.\n",
        "  - The `map()` function in Python is used to apply a function to each item in an iterable (like a list, tuple, or string) and return a new iterator with the results. In simple words, it helps us process a whole collection of values without using an explicit `for` loop.\n",
        "\n",
        "    #### Syntax:\n",
        "\n",
        "    ```python\n",
        "    map(function, iterable)\n",
        "    ```\n",
        "\n",
        "    * **function** → The function to apply.\n",
        "    * **iterable** → The sequence (list, tuple, etc.) on which the function will be applied.\n",
        "\n",
        "    #### Example\n",
        "\n",
        "    ```python\n",
        "    def square(x):\n",
        "        return x * x\n",
        "\n",
        "    numbers = [1, 2, 3, 4, 5]\n",
        "    result = map(square, numbers)\n",
        "\n",
        "    print(list(result))   # [1, 4, 9, 16, 25]\n",
        "    ```\n",
        "\n",
        "    ### Key Points About `map()`\n",
        "\n",
        "    1. It returns a **map object**, which is an iterator. To see the results, we usually convert it into a list or tuple.\n",
        "    2. It helps to make code **shorter and cleaner** compared to writing a full loop.\n",
        "    3. It can also take **multiple iterables** if the function accepts more than one argument.\n",
        "\n",
        "    Example:\n",
        "\n",
        "    ```python\n",
        "    a = [1, 2, 3]\n",
        "    b = [4, 5, 6]\n",
        "\n",
        "    result = map(lambda x, y: x + y, a, b)\n",
        "    print(list(result))   # [5, 7, 9]"
      ],
      "metadata": {
        "id": "7IZivbaUJXSM"
      }
    },
    {
      "cell_type": "markdown",
      "source": [
        "10. What is the difference between `map()`, `reduce()`, and `filter()` functions in Python?\n",
        "  - In Python, the built-in functions **`map()`**, **`reduce()`**, and **`filter()`** are used for processing iterables, but each has a different purpose.\n",
        "\n",
        "    #### **1. `map()`**\n",
        "\n",
        "    * **Purpose**: Applies a function to every element of an iterable.\n",
        "    * **Returns**: A new iterator with the transformed elements.\n",
        "    * **Example**:\n",
        "\n",
        "    ```python\n",
        "    numbers = [1, 2, 3, 4]\n",
        "    result = map(lambda x: x * 2, numbers)\n",
        "    print(list(result))   # [2, 4, 6, 8]\n",
        "    ```\n",
        "\n",
        "    #### **2. `filter()`**\n",
        "\n",
        "    * **Purpose**: Selects elements from an iterable that satisfy a given condition (returns `True`).\n",
        "    * **Returns**: A new iterator with only the filtered elements.\n",
        "    * **Example**:\n",
        "\n",
        "    ```python\n",
        "    numbers = [1, 2, 3, 4, 5]\n",
        "    result = filter(lambda x: x % 2 == 0, numbers)\n",
        "    print(list(result))   # [2, 4]\n",
        "    ```\n",
        "\n",
        "    #### **3. `reduce()`**\n",
        "\n",
        "    * **Purpose**: Repeatedly applies a function to the elements of an iterable, reducing it to a single value.\n",
        "    * **Note**: `reduce()` is not a built-in by default; it is available in the `functools` module.\n",
        "    * **Example**:\n",
        "\n",
        "    ```python\n",
        "    from functools import reduce\n",
        "\n",
        "    numbers = [1, 2, 3, 4]\n",
        "    result = reduce(lambda x, y: x + y, numbers)\n",
        "    print(result)   # 10\n",
        "    ```"
      ],
      "metadata": {
        "id": "HLloVKhgOS2k"
      }
    },
    {
      "cell_type": "markdown",
      "source": [
        "11. Using pen & Paper write the internal mechanism for sum operation using  reduce function on this given\n",
        "list:[47,11,42,13];fun"
      ],
      "metadata": {
        "id": "2YHkrXuCPYMb"
      }
    },
    {
      "cell_type": "code",
      "source": [
        "from functools import reduce\n",
        "my_list = [47,11,42,13]\n",
        "result = reduce(lambda x,y: x+y, my_list)\n",
        "\n",
        "print(result)"
      ],
      "metadata": {
        "colab": {
          "base_uri": "https://localhost:8080/"
        },
        "id": "trwHVifZTRU3",
        "outputId": "12c7361e-332c-472f-a477-faf07e6d93e6"
      },
      "execution_count": null,
      "outputs": [
        {
          "output_type": "stream",
          "name": "stdout",
          "text": [
            "113\n"
          ]
        }
      ]
    },
    {
      "cell_type": "markdown",
      "source": [
        "# Practical Questions"
      ],
      "metadata": {
        "id": "sACkN7ytnTIZ"
      }
    },
    {
      "cell_type": "markdown",
      "source": [
        "1. Write a Python function that takes a list of numbers as input and returns the sum of all even numbers in\n",
        "the list."
      ],
      "metadata": {
        "id": "fu_MAE8hnfK8"
      }
    },
    {
      "cell_type": "code",
      "source": [
        "def gen_even_numbers(numbers):\n",
        "  sum = 0\n",
        "  for num in numbers:\n",
        "    if num%2==0:\n",
        "      sum = sum+num\n",
        "  return sum\n",
        "\n",
        "numbers = [1,2,3,4,5,6,7,8,9,10]\n",
        "\n",
        "result = gen_even_numbers(numbers)\n",
        "print(result)"
      ],
      "metadata": {
        "colab": {
          "base_uri": "https://localhost:8080/"
        },
        "id": "NlMUDM5xorF_",
        "outputId": "1210f103-e9bc-42aa-c370-180cdc3889b0"
      },
      "execution_count": 4,
      "outputs": [
        {
          "output_type": "stream",
          "name": "stdout",
          "text": [
            "30\n"
          ]
        }
      ]
    },
    {
      "cell_type": "markdown",
      "source": [
        "2. Create a Python function that accepts a string and returns the reverse of that string."
      ],
      "metadata": {
        "id": "goRMARpsp2Uf"
      }
    },
    {
      "cell_type": "code",
      "source": [
        "def reverse_string(text):\n",
        "  reversed_str = \"\"\n",
        "  for letter in text:\n",
        "    reversed_str = letter + reversed_str\n",
        "  return reversed_str\n",
        "\n",
        "print(reverse_string(\"Python\"))"
      ],
      "metadata": {
        "colab": {
          "base_uri": "https://localhost:8080/"
        },
        "id": "b7tGT4Fap6Uk",
        "outputId": "1a71c6d7-117f-4296-bfe3-c30dcf134d89"
      },
      "execution_count": 9,
      "outputs": [
        {
          "output_type": "stream",
          "name": "stdout",
          "text": [
            "nohtyP\n"
          ]
        }
      ]
    },
    {
      "cell_type": "markdown",
      "source": [
        "3. Implement a Python function that takes a list of integers and returns a new list containing the squares of\n",
        "each number."
      ],
      "metadata": {
        "id": "ierGAY6xsDnn"
      }
    },
    {
      "cell_type": "code",
      "source": [
        "def square_func(int_list):\n",
        "  ## 1st way\n",
        "  # new_list = []\n",
        "  # for num in int_list:\n",
        "  #     new_list.append(num**2)\n",
        "  # print(new_list)\n",
        "\n",
        "  ## 2nd way\n",
        "  return map(lambda x: x**2, int_list)\n",
        "\n",
        "int_list = [1,2,3,4,5]\n",
        "\n",
        "new_list = list(square_func(int_list))\n",
        "print(new_list)"
      ],
      "metadata": {
        "colab": {
          "base_uri": "https://localhost:8080/"
        },
        "id": "O6FtAbnTsIVr",
        "outputId": "45c546cb-30ba-4612-a1b7-27d83b1cbae4"
      },
      "execution_count": 15,
      "outputs": [
        {
          "output_type": "stream",
          "name": "stdout",
          "text": [
            "[1, 4, 9, 16, 25]\n"
          ]
        }
      ]
    },
    {
      "cell_type": "markdown",
      "source": [
        "4. Write a Python function that checks if a given number is prime or not from 1 to 200."
      ],
      "metadata": {
        "id": "UO85i7Dztw2p"
      }
    },
    {
      "cell_type": "code",
      "source": [
        "def is_prime(num):\n",
        "    if num < 2:\n",
        "        return False\n",
        "    for i in range(2, int(num**0.5) + 1):  # only check up to square root of num\n",
        "        if num % i == 0:\n",
        "            return False\n",
        "    return True\n",
        "\n",
        "# Print all prime numbers from 1 to 200\n",
        "for n in range(1, 201):\n",
        "    if is_prime(n):\n",
        "        print(n, end=\" \")"
      ],
      "metadata": {
        "colab": {
          "base_uri": "https://localhost:8080/"
        },
        "id": "AnyLTdu7t1ex",
        "outputId": "e56aab38-0893-4aed-cc41-30f52e060cbb"
      },
      "execution_count": 21,
      "outputs": [
        {
          "output_type": "stream",
          "name": "stdout",
          "text": [
            "2 3 5 7 11 13 17 19 23 29 31 37 41 43 47 53 59 61 67 71 73 79 83 89 97 101 103 107 109 113 127 131 137 139 149 151 157 163 167 173 179 181 191 193 197 199 "
          ]
        }
      ]
    },
    {
      "cell_type": "markdown",
      "source": [
        "5. Create an iterator class in Python that generates the Fibonacci sequence up to a specified number of\n",
        "terms."
      ],
      "metadata": {
        "id": "-EYGjU0ZxC2X"
      }
    },
    {
      "cell_type": "code",
      "source": [
        "class FibonacciIterator:\n",
        "    def __init__(self, n_terms):\n",
        "        self.n_terms = n_terms   # total number of terms\n",
        "        self.count = 0           # to keep track of how many terms are generated\n",
        "        self.a, self.b = 0, 1    # first two Fibonacci numbers\n",
        "\n",
        "    def __iter__(self):\n",
        "        return self\n",
        "\n",
        "    def __next__(self):\n",
        "        if self.count >= self.n_terms:\n",
        "            raise StopIteration   # stop when limit is reached\n",
        "        if self.count == 0:\n",
        "            self.count += 1\n",
        "            return self.a\n",
        "        elif self.count == 1:\n",
        "            self.count += 1\n",
        "            return self.b\n",
        "        else:\n",
        "            self.a, self.b = self.b, self.a + self.b\n",
        "            self.count += 1\n",
        "            return self.b\n",
        "\n",
        "\n",
        "fib = FibonacciIterator(10)  # generate first 10 Fibonacci numbers\n",
        "for num in fib:\n",
        "    print(num, end=\" \")"
      ],
      "metadata": {
        "colab": {
          "base_uri": "https://localhost:8080/"
        },
        "id": "skOshOKyxNtn",
        "outputId": "516cd79b-cb7e-42ac-bc1c-180a9e93757a"
      },
      "execution_count": 22,
      "outputs": [
        {
          "output_type": "stream",
          "name": "stdout",
          "text": [
            "0 1 1 2 3 5 8 13 21 34 "
          ]
        }
      ]
    },
    {
      "cell_type": "markdown",
      "source": [
        "6. Write a generator function in Python that yields the powers of 2 up to a given exponent."
      ],
      "metadata": {
        "id": "2H7eZ2aRxSk_"
      }
    },
    {
      "cell_type": "code",
      "source": [
        "def power_of_two(max_exponent):\n",
        "    for exp in range(max_exponent + 1):\n",
        "        yield 2 ** exp\n",
        "\n",
        "for value in power_of_two(8):   # generates 2^0 up to 2^8\n",
        "    print(value, end=\" \")"
      ],
      "metadata": {
        "colab": {
          "base_uri": "https://localhost:8080/"
        },
        "id": "tkaL53SexnwW",
        "outputId": "27d0e7f5-e6c1-453c-f8fd-63a7edcf5b48"
      },
      "execution_count": 23,
      "outputs": [
        {
          "output_type": "stream",
          "name": "stdout",
          "text": [
            "1 2 4 8 16 32 64 128 256 "
          ]
        }
      ]
    },
    {
      "cell_type": "markdown",
      "source": [
        "7. Implement a generator function that reads a file line by line and yields each line as a string."
      ],
      "metadata": {
        "id": "W3OGB17qyZmU"
      }
    },
    {
      "cell_type": "code",
      "source": [
        "def read_file_line_by_line(filename):\n",
        "    with open(filename, \"r\") as file:\n",
        "        for line in file:\n",
        "            yield line.strip()   # strip removes extra spaces/newline\n",
        "\n",
        "for line in read_file_line_by_line(\"example.txt\"):\n",
        "    print(line)"
      ],
      "metadata": {
        "id": "XlTwiQ-3yaH-"
      },
      "execution_count": null,
      "outputs": []
    },
    {
      "cell_type": "markdown",
      "source": [
        "8. Use a lambda function in Python to sort a list of tuples based on the second element of each tuple."
      ],
      "metadata": {
        "id": "Xnw-VRLPxtiO"
      }
    },
    {
      "cell_type": "code",
      "source": [
        "# List of tuples\n",
        "numbers = [(4, 9), (1, 3), (7, 5), (2, 8)]\n",
        "\n",
        "# Sorting by the second element using lambda\n",
        "sorted_list = sorted(numbers, key=lambda x: x[1])\n",
        "\n",
        "print(\"Original List:\", numbers)\n",
        "print(\"Sorted List:\", sorted_list)"
      ],
      "metadata": {
        "colab": {
          "base_uri": "https://localhost:8080/"
        },
        "id": "S-ODuJAiyw_T",
        "outputId": "d9bd9d47-ade3-4842-e449-0bfe2f2aa71a"
      },
      "execution_count": 26,
      "outputs": [
        {
          "output_type": "stream",
          "name": "stdout",
          "text": [
            "Original List: [(4, 9), (1, 3), (7, 5), (2, 8)]\n",
            "Sorted List: [(1, 3), (7, 5), (2, 8), (4, 9)]\n"
          ]
        }
      ]
    },
    {
      "cell_type": "markdown",
      "source": [
        "9. Write a Python program that uses `map()` to convert a list of temperatures from Celsius to Fahrenheit."
      ],
      "metadata": {
        "id": "VOkAJD4w04JG"
      }
    },
    {
      "cell_type": "code",
      "source": [
        "# List of temperatures in Celsius\n",
        "celsius = [0, 20, 37, 100]\n",
        "\n",
        "# Formula: (C × 9/5) + 32\n",
        "fahrenheit = list(map(lambda c: (c * 9/5) + 32, celsius))\n",
        "\n",
        "print(\"Celsius:\", celsius)\n",
        "print(\"Fahrenheit:\", fahrenheit)"
      ],
      "metadata": {
        "colab": {
          "base_uri": "https://localhost:8080/"
        },
        "id": "a_QIN5Kf1A0W",
        "outputId": "3010b065-a98f-446a-8cca-845ce830084e"
      },
      "execution_count": 28,
      "outputs": [
        {
          "output_type": "stream",
          "name": "stdout",
          "text": [
            "Celsius: [0, 20, 37, 100]\n",
            "Fahrenheit: [32.0, 68.0, 98.6, 212.0]\n"
          ]
        }
      ]
    },
    {
      "cell_type": "markdown",
      "source": [
        "10. Create a Python program that uses `filter()` to remove all the vowels from a given string."
      ],
      "metadata": {
        "id": "rUKpIeBr1Kpe"
      }
    },
    {
      "cell_type": "code",
      "source": [
        "# Input string\n",
        "text = \"Programming in Python is fun\"\n",
        "\n",
        "# Define vowels\n",
        "vowels = \"aeiouAEIOU\"\n",
        "\n",
        "# Use filter with lambda to remove vowels\n",
        "result = \"\".join(filter(lambda ch: ch not in vowels, text))\n",
        "\n",
        "print(\"Original String:\", text)\n",
        "print(\"String without vowels:\", result)"
      ],
      "metadata": {
        "colab": {
          "base_uri": "https://localhost:8080/"
        },
        "id": "v8QwvpA31She",
        "outputId": "fa658008-852b-48ed-e68c-e11137d59ba2"
      },
      "execution_count": 27,
      "outputs": [
        {
          "output_type": "stream",
          "name": "stdout",
          "text": [
            "Original String: Programming in Python is fun\n",
            "String without vowels: Prgrmmng n Pythn s fn\n"
          ]
        }
      ]
    },
    {
      "cell_type": "markdown",
      "source": [
        "11. Imagine an accounting routine used in a book shop. It works on a list with sublists, which look like this:\n",
        "\n",
        ":: DATA\n",
        "\n",
        "  Write a Python program, which returns a list with 2-tuples. Each tuple consists of the order number and the product of the price per item and the quantity. The product should be increased by 10,- € if the value of the order is smaller than 100,00 €."
      ],
      "metadata": {
        "id": "iKOSDYTF1YCv"
      }
    },
    {
      "cell_type": "code",
      "source": [
        "orders = [\n",
        "    [34587, \"Learning Python, Mark Lutz\", 4, 40.95],\n",
        "    [98762, \"Programming Python, Mark Lutz\", 5, 56.80],\n",
        "    [77226, \"Head First Python, Paul Barry\", 3, 32.95],\n",
        "    [88112, \"Einführung in Python3, Bernd Klein\", 3, 24.99]\n",
        "]\n",
        "\n",
        "# Using map and lambda\n",
        "result = list(map(\n",
        "    lambda order: (\n",
        "        order[0],  # Order Number\n",
        "        order[2] * order[3] if order[2] * order[3] >= 100 else order[2] * order[3] + 10\n",
        "    ),\n",
        "    orders\n",
        "))\n",
        "\n",
        "# Output\n",
        "print(result)"
      ],
      "metadata": {
        "colab": {
          "base_uri": "https://localhost:8080/"
        },
        "id": "NP94cIVG1vVl",
        "outputId": "9af21ca5-f539-46b7-91e9-789ff5e4ad18"
      },
      "execution_count": 30,
      "outputs": [
        {
          "output_type": "stream",
          "name": "stdout",
          "text": [
            "[(34587, 163.8), (98762, 284.0), (77226, 108.85000000000001), (88112, 84.97)]\n"
          ]
        }
      ]
    }
  ]
}